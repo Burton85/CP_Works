{
 "cells": [
  {
   "cell_type": "code",
   "execution_count": 111,
   "metadata": {},
   "outputs": [],
   "source": [
    "import numpy as np"
   ]
  },
  {
   "cell_type": "code",
   "execution_count": 112,
   "metadata": {},
   "outputs": [],
   "source": [
    "english_score = np.array([55,89,76,65,48,70])\n",
    "math_score = np.array([60,85,60,68,np.nan,60])\n",
    "chinese_score = np.array([65,90,82,72,66,77])"
   ]
  },
  {
   "cell_type": "code",
   "execution_count": 113,
   "metadata": {},
   "outputs": [],
   "source": [
    "#1. 請計算各科成績平均、最大值、最小值、標準差，其中數學缺一筆資料可忽略?"
   ]
  },
  {
   "cell_type": "code",
   "execution_count": 114,
   "metadata": {},
   "outputs": [],
   "source": [
    "english_mean=np.nanmean(english_score)\n",
    "english_max=np.nanmax(english_score)\n",
    "english_min=np.nanmin(english_score)\n",
    "english_std=np.nanstd(english_score)\n",
    "math_mean=np.nanmean(math_score)\n",
    "math_max=np.nanmax(math_score)\n",
    "math_min=np.nanmin(math_score)\n",
    "math_std=np.nanstd(math_score)\n",
    "chinese_mean=np.nanmean(chinese_score)\n",
    "chinese_max=np.nanmax(chinese_score)\n",
    "chinese_min=np.nanmin(chinese_score)\n",
    "chinese_std=np.nanstd(chinese_score)"
   ]
  },
  {
   "cell_type": "code",
   "execution_count": 115,
   "metadata": {},
   "outputs": [
    {
     "name": "stdout",
     "output_type": "stream",
     "text": [
      "英文 67.16666666666667 89 48 13.433995020924426 數學 66.6 85.0 60.0 9.707728879609279 中文 75.33333333333333 90 65 8.825468196582484\n"
     ]
    }
   ],
   "source": [
    "print(\"英文\",english_mean,english_max,english_min,english_std,'數學',math_mean,math_max,math_min,math_std,'中文',chinese_mean,chinese_max,chinese_min,chinese_std)"
   ]
  },
  {
   "cell_type": "code",
   "execution_count": 116,
   "metadata": {},
   "outputs": [],
   "source": [
    "#2. 第五位同學補考數學後成績為55，請計算補考後數學成績平均、最大值、最小值、標準差?"
   ]
  },
  {
   "cell_type": "code",
   "execution_count": 117,
   "metadata": {},
   "outputs": [],
   "source": [
    "math_score[4]=55"
   ]
  },
  {
   "cell_type": "code",
   "execution_count": 118,
   "metadata": {},
   "outputs": [
    {
     "name": "stdout",
     "output_type": "stream",
     "text": [
      "64.66666666666667 85.0 55.0 9.860132971832694\n"
     ]
    }
   ],
   "source": [
    "math_mean=np.nanmean(math_score)\n",
    "math_max=np.nanmax(math_score)\n",
    "math_min=np.nanmin(math_score)\n",
    "math_std=np.nanstd(math_score)\n",
    "print(math_mean,math_max,math_min,math_std)"
   ]
  },
  {
   "cell_type": "code",
   "execution_count": 119,
   "metadata": {},
   "outputs": [],
   "source": [
    "#3. 用補考後資料找出與國文成績相關係數最高的學科?"
   ]
  },
  {
   "cell_type": "code",
   "execution_count": 126,
   "metadata": {},
   "outputs": [
    {
     "name": "stdout",
     "output_type": "stream",
     "text": [
      "english\n"
     ]
    }
   ],
   "source": [
    "english=np.corrcoef([english_score,chinese_score])\n",
    "math=np.corrcoef([math_score,chinese_score])\n",
    "print('english' if english[0,1]>math[0,1] else 'math')"
   ]
  },
  {
   "cell_type": "code",
   "execution_count": null,
   "metadata": {},
   "outputs": [],
   "source": []
  }
 ],
 "metadata": {
  "kernelspec": {
   "display_name": "Python 3",
   "language": "python",
   "name": "python3"
  },
  "language_info": {
   "codemirror_mode": {
    "name": "ipython",
    "version": 3
   },
   "file_extension": ".py",
   "mimetype": "text/x-python",
   "name": "python",
   "nbconvert_exporter": "python",
   "pygments_lexer": "ipython3",
   "version": "3.8.5"
  }
 },
 "nbformat": 4,
 "nbformat_minor": 4
}
